{
  "nbformat": 4,
  "nbformat_minor": 0,
  "metadata": {
    "colab": {
      "provenance": [],
      "authorship_tag": "ABX9TyMFUWb6+nffqE7wOzwmG4CB",
      "include_colab_link": true
    },
    "kernelspec": {
      "name": "python3",
      "display_name": "Python 3"
    },
    "language_info": {
      "name": "python"
    }
  },
  "cells": [
    {
      "cell_type": "markdown",
      "metadata": {
        "id": "view-in-github",
        "colab_type": "text"
      },
      "source": [
        "<a href=\"https://colab.research.google.com/github/prabhatu786/FullStackDataScience/blob/main/01_July_OOPs.ipynb\" target=\"_parent\"><img src=\"https://colab.research.google.com/assets/colab-badge.svg\" alt=\"Open In Colab\"/></a>"
      ]
    },
    {
      "cell_type": "markdown",
      "source": [
        "1.What is the primary goal of Object-Oriented Programming (OOP)?\n",
        "\n",
        "Answer:\n",
        "\n",
        "The primary goal of Object-Oriented Programming (OOP) is to create modular, reusable, and maintainable code by defining objects that encapsulate data and behavior. OOP emphasizes the use of abstraction, encapsulation, inheritance, and polymorphism to create complex systems"
      ],
      "metadata": {
        "id": "Hx-5VBTutHv9"
      }
    },
    {
      "cell_type": "markdown",
      "source": [
        "2. What is an object in Python?\n",
        "\n",
        "Answer:\n",
        "\n",
        "In Python, an object is an instance of a class that has its own unique state and behavior. It can be created using the constructor method of the class and can have its own set of attributes and methods."
      ],
      "metadata": {
        "id": "pvFFtGw_tHpo"
      }
    },
    {
      "cell_type": "markdown",
      "source": [
        "3. What is a class in Python?\n",
        "\n",
        "Answer:\n",
        "A class in Python is a blueprint for creating objects. It defines the attributes and methods that the objects created from the class will have."
      ],
      "metadata": {
        "id": "mb9JKOWytPuV"
      }
    },
    {
      "cell_type": "markdown",
      "source": [
        "4. What are attributes and methods in a class?\n",
        "\n",
        "Answer:\n",
        "In a class, attributes represent the state of an object, while methods represent the behavior of an object. Attributes are the variables that store the data of an object, while methods are the functions that define the actions that an object can perform."
      ],
      "metadata": {
        "id": "KvUlkxaftQFg"
      }
    },
    {
      "cell_type": "markdown",
      "source": [
        "5.What is the difference between class variables and instance variables in Python?\n",
        "\n",
        "Answer:\n",
        "Class variables in Python are shared among all instances of a class, while instance variables are specific to each instance of a class. Class variables are defined outside of any method and are accessible to all instances of the class, while instance variables are defined inside the constructor method or any other method and are unique to each instance of the class."
      ],
      "metadata": {
        "id": "0ERnEXSjtP5R"
      }
    },
    {
      "cell_type": "markdown",
      "source": [
        "6.What is the purpose of the self parameter in Python class methods?\n",
        "\n",
        "Answer:\n",
        "The self parameter in Python class methods is a reference to the current instance of the class. It is used to access and manipulate the attributes and methods of the instance. By convention, the self parameter is the first parameter of all class methods except for the constructor method, which does not have any parameters."
      ],
      "metadata": {
        "id": "0YbJKJ_ouCXE"
      }
    },
    {
      "cell_type": "markdown",
      "source": [
        "7.For a library management system, you have to design the \"Book\" class with OOP\n",
        "principles in mind. The “Book” class will have following attributes:\n",
        "a. title: Represents the title of the book.\n",
        "b. author: Represents the author(s) of the book.\n",
        "c. isbn: Represents the ISBN (International Standard Book Number) of the book.\n",
        "d. publication_year: Represents the year of publication of the book.\n",
        "e. available_copies: Represents the number of copies available for checkout.\n",
        "The class will also include the following methods:\n",
        "a. check_out(self): Decrements the available copies by one if there are copies\n",
        "available for checkout.\n",
        "b. return_book(self): Increments the available copies by one when a book is\n",
        "returned.\n",
        "c. display_book_info(self): Displays the information about the book, including its\n",
        "attributes and the number of available copies."
      ],
      "metadata": {
        "id": "5M1fR8TcsKFL"
      }
    },
    {
      "cell_type": "code",
      "source": [
        "class Book:\n",
        "    def __init__(self, title, author, isbn, publication_year, available_copies=1):\n",
        "        self.title = title\n",
        "        self.author = author\n",
        "        self.isbn = isbn\n",
        "        self.publication_year = publication_year\n",
        "        self.available_copies = available_copies\n",
        "\n",
        "    def check_out(self):\n",
        "        if self.available_copies > 0:\n",
        "            self.available_copies -= 1\n",
        "            print('Book checked out successfully.')\n",
        "        else:\n",
        "            print('No available copies for checkout.')\n",
        "\n",
        "    def return_book(self):\n",
        "        self.available_copies += 1\n",
        "        print('Book returned successfully.')\n",
        "\n",
        "    def display_book_info(self):\n",
        "        print(f'Title: {self.title}')\n",
        "        print(f'Author: {self.author}')\n",
        "        print(f'ISBN: {self.isbn}')\n",
        "        print(f'Publication Year: {self.publication_year}')\n",
        "        print(f'Available Copies: {self.available_copies}')\n",
        "\n",
        "# example usage\n",
        "book1 = Book('The Great Gatsby', 'F. Scott Fitzgerald', '9780743273565', 1925)\n",
        "book1.display_book_info()\n",
        "book1.check_out()\n",
        "book1.display_book_info()\n",
        "book1.return_book()\n",
        "book1.display_book_info()"
      ],
      "metadata": {
        "colab": {
          "base_uri": "https://localhost:8080/"
        },
        "id": "eX2hvs14shGA",
        "outputId": "0b3af793-d59e-4e1a-c2bd-517284a56316"
      },
      "execution_count": null,
      "outputs": [
        {
          "output_type": "stream",
          "name": "stdout",
          "text": [
            "Title: The Great Gatsby\n",
            "Author: F. Scott Fitzgerald\n",
            "ISBN: 9780743273565\n",
            "Publication Year: 1925\n",
            "Available Copies: 1\n",
            "Book checked out successfully.\n",
            "Title: The Great Gatsby\n",
            "Author: F. Scott Fitzgerald\n",
            "ISBN: 9780743273565\n",
            "Publication Year: 1925\n",
            "Available Copies: 0\n",
            "Book returned successfully.\n",
            "Title: The Great Gatsby\n",
            "Author: F. Scott Fitzgerald\n",
            "ISBN: 9780743273565\n",
            "Publication Year: 1925\n",
            "Available Copies: 1\n"
          ]
        }
      ]
    },
    {
      "cell_type": "markdown",
      "source": [
        "8. For a ticket booking system, you have to design the \"Ticket\" class with OOP\n",
        "principles in mind. The “Ticket” class should have the following attributes:\n",
        "a. ticket_id: Represents the unique identifier for the ticket.\n",
        "b. event_name: Represents the name of the event.\n",
        "c. event_date: Represents the date of the event.\n",
        "d. venue: Represents the venue of the event.\n",
        "e. seat_number: Represents the seat number associated with the ticket.\n",
        "f. price: Represents the price of the ticket.\n",
        "g. is_reserved: Represents the reservation status of the ticket.\n",
        "The class also includes the following methods:\n",
        "a. reserve_ticket(self): Marks the ticket as reserved if it is not already reserved.\n",
        "b. cancel_reservation(self): Cancels the reservation of the ticket if it is already\n",
        "reserved.\n",
        "c. display_ticket_info(self): Displays the information about the ticket, including its\n",
        "attributes and reservation status."
      ],
      "metadata": {
        "id": "surbq-x_ppuU"
      }
    },
    {
      "cell_type": "code",
      "execution_count": null,
      "metadata": {
        "colab": {
          "base_uri": "https://localhost:8080/"
        },
        "id": "CL1HNS6_pdPs",
        "outputId": "3d0e4f80-27c0-414e-f8a5-fc487fd5c280"
      },
      "outputs": [
        {
          "output_type": "stream",
          "name": "stdout",
          "text": [
            "Ticket ID: 1\n",
            "Event Name: Concert\n",
            "Event Date: 2023-06-01\n",
            "Venue: Concert Hall\n",
            "Seat Number: 10\n",
            "Price: 50.0\n",
            "Reservation Status: Not Reserved\n",
            "Ticket 1 has been reserved.\n",
            "Ticket ID: 1\n",
            "Event Name: Concert\n",
            "Event Date: 2023-06-01\n",
            "Venue: Concert Hall\n",
            "Seat Number: 10\n",
            "Price: 50.0\n",
            "Reservation Status: Reserved\n",
            "Reservation for ticket 1 has been cancelled.\n",
            "Ticket ID: 1\n",
            "Event Name: Concert\n",
            "Event Date: 2023-06-01\n",
            "Venue: Concert Hall\n",
            "Seat Number: 10\n",
            "Price: 50.0\n",
            "Reservation Status: Not Reserved\n"
          ]
        }
      ],
      "source": [
        "import datetime\n",
        "\n",
        "class Ticket:\n",
        "    def __init__(self, ticket_id, event_name, event_date, venue, seat_number, price):\n",
        "        self.ticket_id = ticket_id\n",
        "        self.event_name = event_name\n",
        "        self.event_date = event_date\n",
        "        self.venue = venue\n",
        "        self.seat_number = seat_number\n",
        "        self.price = price\n",
        "        self.is_reserved = False\n",
        "\n",
        "    def reserve_ticket(self):\n",
        "        if not self.is_reserved:\n",
        "            self.is_reserved = True\n",
        "            print(f'Ticket {self.ticket_id} has been reserved.')\n",
        "        else:\n",
        "            print(f'Ticket {self.ticket_id} is already reserved.')\n",
        "\n",
        "    def cancel_reservation(self):\n",
        "        if self.is_reserved:\n",
        "            self.is_reserved = False\n",
        "            print(f'Reservation for ticket {self.ticket_id} has been cancelled.')\n",
        "        else:\n",
        "            print(f'Ticket {self.ticket_id} is not reserved.')\n",
        "\n",
        "    def display_ticket_info(self):\n",
        "        print(f'Ticket ID: {self.ticket_id}')\n",
        "        print(f'Event Name: {self.event_name}')\n",
        "        print(f'Event Date: {self.event_date}')\n",
        "        print(f'Venue: {self.venue}')\n",
        "        print(f'Seat Number: {self.seat_number}')\n",
        "        print(f'Price: {self.price}')\n",
        "        if self.is_reserved:\n",
        "            print('Reservation Status: Reserved')\n",
        "        else:\n",
        "            print('Reservation Status: Not Reserved')\n",
        "\n",
        "# example usage\n",
        "ticket1 = Ticket(1, 'Concert', datetime.date(2023, 6, 1), 'Concert Hall', 10, 50.00)\n",
        "ticket1.display_ticket_info()\n",
        "ticket1.reserve_ticket()\n",
        "ticket1.display_ticket_info()\n",
        "ticket1.cancel_reservation()\n",
        "ticket1.display_ticket_info()"
      ]
    },
    {
      "cell_type": "markdown",
      "source": [
        "9.You are creating a shopping cart for an e-commerce website. Using OOP to model\n",
        "the \"ShoppingCart\" functionality the class should contain following attributes and\n",
        "methods:\n",
        "a. items: Represents the list of items in the shopping cart.\n",
        "The class also includes the following methods:\n",
        "\n",
        "a. add_item(self, item): Adds an item to the shopping cart by appending it to the\n",
        "list of items.\n",
        "b. remove_item(self, item): Removes an item from the shopping cart if it exists in\n",
        "the list.\n",
        "c. view_cart(self): Displays the items currently present in the shopping cart.\n",
        "d. clear_cart(self): Clears all items from the"
      ],
      "metadata": {
        "id": "t2WNsshNs915"
      }
    },
    {
      "cell_type": "code",
      "source": [
        "class ShoppingCart:\n",
        "    def __init__(self):\n",
        "        self.items = []\n",
        "\n",
        "    def add_item(self, item):\n",
        "        self.items.append(item)\n",
        "        print(f'{item} added to the shopping cart.')\n",
        "\n",
        "    def remove_item(self, item):\n",
        "        if item in self.items:\n",
        "            self.items.remove(item)\n",
        "            print(f'{item} removed from the shopping cart.')\n",
        "        else:\n",
        "            print(f'{item} not found in the shopping cart.')\n",
        "\n",
        "    def view_cart(self):\n",
        "        print('Shopping Cart:')\n",
        "        for item in self.items:\n",
        "            print(item)\n",
        "\n",
        "    def clear_cart(self):\n",
        "        self.items.clear()\n",
        "        print('Shopping cart cleared.')\n",
        "\n",
        "# example usage\n",
        "shopping_cart = ShoppingCart()\n",
        "shopping_cart.add_item('Laptop')\n",
        "shopping_cart.add_item('Keyboard')\n",
        "shopping_cart.view_cart()\n",
        "shopping_cart.remove_item('Keyboard')\n",
        "shopping_cart.view_cart()\n",
        "shopping_cart.clear_cart()\n",
        "shopping_cart.view_cart()"
      ],
      "metadata": {
        "colab": {
          "base_uri": "https://localhost:8080/"
        },
        "id": "uqQJq8G5s_i_",
        "outputId": "a8817f70-85af-4f53-cde7-7c8aac1611c7"
      },
      "execution_count": null,
      "outputs": [
        {
          "output_type": "stream",
          "name": "stdout",
          "text": [
            "Laptop added to the shopping cart.\n",
            "Keyboard added to the shopping cart.\n",
            "Shopping Cart:\n",
            "Laptop\n",
            "Keyboard\n",
            "Keyboard removed from the shopping cart.\n",
            "Shopping Cart:\n",
            "Laptop\n",
            "Shopping cart cleared.\n",
            "Shopping Cart:\n"
          ]
        }
      ]
    },
    {
      "cell_type": "markdown",
      "source": [],
      "metadata": {
        "id": "2nljkzl_tHs7"
      }
    },
    {
      "cell_type": "markdown",
      "source": [
        "10.Imagine a school management system. You have to design the \"Student\" class using\n",
        "OOP concepts.The “Student” class has the following attributes:\n",
        "a. name: Represents the name of the student.\n",
        "b. age: Represents the age of the student.\n",
        "c. grade: Represents the grade or class of the student.\n",
        "d. student_id: Represents the unique identifier for the student.\n",
        "e. attendance: Represents the attendance record of the student.\n",
        "The class should also include the following methods:\n",
        "a. update_attendance(self, date, status): Updates the attendance record of the\n",
        "student for a given date with the provided status (e.g., present or absent).\n",
        "b. get_attendance(self): Returns the attendance record of the student.\n",
        "c. get_average_attendance(self): Calculates and returns the average\n",
        "attendance percentage of the student based on their attendance record."
      ],
      "metadata": {
        "id": "ri89UzyTp_E7"
      }
    },
    {
      "cell_type": "code",
      "source": [
        "class Student:\n",
        "    def __init__(self, name, age, grade, student_id):\n",
        "        self.name = name\n",
        "        self.age = age\n",
        "        self.grade = grade\n",
        "        self.student_id = student_id\n",
        "        self.attendance = {}\n",
        "\n",
        "    def update_attendance(self, date, status):\n",
        "        if date in self.attendance:\n",
        "            self.attendance[date] = status\n",
        "        else:\n",
        "            self.attendance[date] = status\n",
        "\n",
        "    def get_attendance(self):\n",
        "        return self.attendance\n",
        "\n",
        "    def get_average_attendance(self):\n",
        "        total_days = len(self.attendance)\n",
        "        present_days = sum(1 for attend in self.attendance.values() if attend == 'present')\n",
        "        if total_days == 0:\n",
        "            return 0\n",
        "        return (present_days / total_days) * 100\n",
        "\n",
        "# example usage\n",
        "student1 = Student('John Doe', 15, '10th', 123456)\n",
        "student1.update_attendance('2023-03-01', 'present')\n",
        "student1.update_attendance('2023-03-02', 'absent')\n",
        "student1.update_attendance('2023-03-03', 'present')\n",
        "attendance_record = student1.get_attendance()\n",
        "average_attendance = student1.get_average_attendance()\n",
        "print(f'Attendance Record: {attendance_record}')\n",
        "print(f'Average Attendance: {average_attendance}%')\n"
      ],
      "metadata": {
        "colab": {
          "base_uri": "https://localhost:8080/"
        },
        "id": "20qgLx0cqp_4",
        "outputId": "856c50af-e70d-475c-838d-ae675b99f9a9"
      },
      "execution_count": null,
      "outputs": [
        {
          "output_type": "stream",
          "name": "stdout",
          "text": [
            "Attendance Record: {'2023-03-01': 'present', '2023-03-02': 'absent', '2023-03-03': 'present'}\n",
            "Average Attendance: 66.66666666666666%\n"
          ]
        }
      ]
    }
  ]
}