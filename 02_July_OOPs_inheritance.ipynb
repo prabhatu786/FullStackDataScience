{
  "nbformat": 4,
  "nbformat_minor": 0,
  "metadata": {
    "colab": {
      "provenance": [],
      "gpuType": "T4",
      "authorship_tag": "ABX9TyNo3lsCi79Xc1DvG43orvuS",
      "include_colab_link": true
    },
    "kernelspec": {
      "name": "python3",
      "display_name": "Python 3"
    },
    "language_info": {
      "name": "python"
    },
    "accelerator": "GPU"
  },
  "cells": [
    {
      "cell_type": "markdown",
      "metadata": {
        "id": "view-in-github",
        "colab_type": "text"
      },
      "source": [
        "<a href=\"https://colab.research.google.com/github/prabhatu786/FullStackDataScience/blob/main/02_July_OOPs_inheritance.ipynb\" target=\"_parent\"><img src=\"https://colab.research.google.com/assets/colab-badge.svg\" alt=\"Open In Colab\"/></a>"
      ]
    },
    {
      "cell_type": "markdown",
      "source": [
        "1.Explain what inheritance is in object-oriented programming and why it is used.\n",
        "\n",
        "Answer:\n",
        "\n",
        "Inheritance in object-oriented programming is the mechanism by which one class (the derived class) can inherit properties and methods from another class (the base class). This allows for code reuse and a more organized and hierarchical structure for the program. It also enables the creation of more specialized classes based on more general ones, making the code more modular and easier to maintain."
      ],
      "metadata": {
        "id": "avMjl1NW3HzD"
      }
    },
    {
      "cell_type": "markdown",
      "source": [
        "2.Discuss the concept of single inheritance and multiple inheritance, highlighting their\n",
        "differences and advantages.\n",
        "\n",
        "Answer:\n",
        "Single inheritance is when a derived class inherits from only one base class. This is the most common and straightforward form of inheritance. Multiple inheritance is when a derived class inherits from more than one base class. This can be useful when a class needs to inherit properties and methods from multiple sources, but it can also lead to conflicts and complexity if not handled carefully. The main advantage of single inheritance is its simplicity and ease of use, while multiple inheritance allows for greater flexibility and reuse of code, but with a higher potential for complexity and conflicts."
      ],
      "metadata": {
        "id": "NBe8754t3H2f"
      }
    },
    {
      "cell_type": "markdown",
      "source": [
        "3.Explain the terms \"base class\" and \"derived class\" in the context of inheritance.\n",
        "\n",
        "Answer:\n",
        "\n",
        "A base class (also known as a superclass or parent class) is a class that is extended or inherited by another class (the derived class or subclass). The base class defines the basic or general properties and methods that the derived classes can inherit and specialize. A derived class (also known as a subclass or child class) is a class that inherits from another class, adding its own specific properties and methods or overriding the ones it inherited."
      ],
      "metadata": {
        "id": "mipTTeYJ3H74"
      }
    },
    {
      "cell_type": "markdown",
      "source": [
        "4. What is the significance of the \"protected\" access modifier in inheritance? How does\n",
        "it differ from \"private\" and \"public\" modifiers?\n",
        "\n",
        "Answer:\n",
        "\n",
        "The \"protected\" access modifier in inheritance is used to indicate that a property or method should only be accessed by the class itself and its derived classes. This differs from \"private\" modifiers, which restrict access to the class itself, and \"public\" modifiers, which allow access from anywhere. The \"protected\" modifier allows for encapsulation and information hiding, while still enabling derived classes to access and use the protected members."
      ],
      "metadata": {
        "id": "gnmpuA8k3H-Q"
      }
    },
    {
      "cell_type": "markdown",
      "source": [
        "5. What is the purpose of the \"super\" keyword in inheritance? Provide an example.\n",
        "Answer:\n",
        "\n",
        "he \"super\" keyword in inheritance refers to the superclass or base class of the current class. It is used to call methods or access properties of the superclass, especially when they have been overridden in the derived class. The \"super\" keyword can also be used to initialize the superclass in the derived class's constructor. Here's an example:"
      ],
      "metadata": {
        "id": "1TIMCU7f6tBS"
      }
    },
    {
      "cell_type": "code",
      "source": [
        "class A:\n",
        "    def __init__(self):\n",
        "        self.a = 1\n",
        "\n",
        "class B(A):\n",
        "    def __init__(self):\n",
        "        super().__init__()\n",
        "        self.b = 2\n",
        "\n",
        "b = B()\n",
        "print(b.a, b.b) # prints 1 2"
      ],
      "metadata": {
        "colab": {
          "base_uri": "https://localhost:8080/"
        },
        "id": "wFz9LA-P7bR3",
        "outputId": "99c131b7-f84e-4c2b-dc8d-a6fbad18ad86"
      },
      "execution_count": 11,
      "outputs": [
        {
          "output_type": "stream",
          "name": "stdout",
          "text": [
            "1 2\n"
          ]
        }
      ]
    },
    {
      "cell_type": "markdown",
      "source": [
        "6. Create a base class called \"Vehicle\" with attributes like \"make\", \"model\", and \"year\".\n",
        "Then, create a derived class called \"Car\" that inherits from \"Vehicle\" and adds an\n",
        "attribute called \"fuel_type\". Implement appropriate methods in both classes."
      ],
      "metadata": {
        "id": "Rfisc7UI3KFU"
      }
    },
    {
      "cell_type": "code",
      "source": [
        "class Vehicle:\n",
        "    def __init__(self, make, model, year):\n",
        "        self.make = make\n",
        "        self.model = model\n",
        "        self.year = year\n",
        "\n",
        "    def start_engine(self):\n",
        "        print(\"Starting engine...\")\n",
        "\n",
        "    def stop_engine(self):\n",
        "        print(\"Stopping engine...\")\n",
        "\n",
        "class Car(Vehicle):\n",
        "    def __init__(self, make, model, year, fuel_type):\n",
        "        super().__init__(make, model, year)\n",
        "        self.fuel_type = fuel_type\n",
        "\n",
        "    def fill_gas(self, amount):\n",
        "        print(f\"Filling up {amount} gallons of {self.fuel_type}...\")\n",
        "\n",
        "# Example usage\n",
        "my_car = Car(\"Toyota\", \"Corolla\", 2020, \"Regular Unleaded\")\n",
        "my_car.start_engine()\n",
        "my_car.fill_gas(15)\n",
        "my_car.stop_engine()"
      ],
      "metadata": {
        "colab": {
          "base_uri": "https://localhost:8080/"
        },
        "id": "Zir90xeL3ch9",
        "outputId": "fad6446a-228d-42ab-b740-23131cc1a3eb"
      },
      "execution_count": 1,
      "outputs": [
        {
          "output_type": "stream",
          "name": "stdout",
          "text": [
            "Starting engine...\n",
            "Filling up 15 gallons of Regular Unleaded...\n",
            "Stopping engine...\n"
          ]
        }
      ]
    },
    {
      "cell_type": "markdown",
      "source": [
        "7. Create a base class called \"Employee\" with attributes like \"name\" and \"salary.\"\n",
        "Derive two classes, \"Manager\" and \"Developer,\" from \"Employee.\" Add an additional\n",
        "attribute called \"department\" for the \"Manager\" class and \"programming_language\"\n",
        "for the \"Developer\" class.\n",
        "\n"
      ],
      "metadata": {
        "id": "36shMg533KII"
      }
    },
    {
      "cell_type": "code",
      "source": [
        "class Employee:\n",
        "    def __init__(self, name, salary):\n",
        "        self.name = name\n",
        "        self.salary = salary\n",
        "\n",
        "    def give_raise(self, amount):\n",
        "        self.salary += amount\n",
        "\n",
        "class Manager(Employee):\n",
        "    def __init__(self, name, salary, department):\n",
        "        super().__init__(name, salary)\n",
        "        self.department = department\n",
        "\n",
        "    def assign_task(self, task):\n",
        "        print(f\"Assigning task: {task} to {self.name}, department: {self.department}\")\n",
        "\n",
        "class Developer(Employee):\n",
        "    def __init__(self, name, salary, programming_language):\n",
        "        super().__init__(name, salary)\n",
        "        self.programming_language = programming_language\n",
        "\n",
        "    def write_code(self, code):\n",
        "        print(f\"{self.name} is writing code in {self.programming_language}: {code}\")\n",
        "\n",
        "# Example usage\n",
        "mike = Manager(\"Prabhat\", 80000, \"Marketing\")\n",
        "mike.assign_task(\"Prepare sales report\")\n",
        "mike.give_raise(5000)\n",
        "\n",
        "john = Developer(\"John\", 90000, \"Python\")\n",
        "john.write_code(\"def hello\\_world():\\n\\tprint('Hello, world!')\")\n",
        "john.give_raise(3000)\n",
        "\n",
        "print(f\"Adarsh's salary: {mike.salary}\")\n",
        "print(f\"John's salary: {john.salary}\")"
      ],
      "metadata": {
        "colab": {
          "base_uri": "https://localhost:8080/"
        },
        "id": "2fcmaJgD33x2",
        "outputId": "59fb6518-50e1-4cb2-f650-6a2b2fa65938"
      },
      "execution_count": 2,
      "outputs": [
        {
          "output_type": "stream",
          "name": "stdout",
          "text": [
            "Assigning task: Prepare sales report to Prabhat, department: Marketing\n",
            "John is writing code in Python: def hello\\_world():\n",
            "\tprint('Hello, world!')\n",
            "Adarsh's salary: 85000\n",
            "John's salary: 93000\n"
          ]
        }
      ]
    },
    {
      "cell_type": "markdown",
      "source": [
        "8. Design a base class called \"Shape\" with attributes like \"colour\" and \"border_width.\"\n",
        "Create derived classes, \"Rectangle\" and \"Circle,\" that inherit from \"Shape\" and add\n",
        "specific attributes like \"length\" and \"width\" for the \"Rectangle\" class and \"radius\" for\n",
        "the \"Circle\" class."
      ],
      "metadata": {
        "id": "DX3y5jAW3KK5"
      }
    },
    {
      "cell_type": "code",
      "source": [
        "class Shape:\n",
        "    def __init__(self, color, border_width):\n",
        "        self.color = color\n",
        "        self.border_width = border_width\n",
        "\n",
        "class Rectangle(Shape):\n",
        "    def __init__(self, color, border_width, length, width):\n",
        "        super().__init__(color, border_width)\n",
        "        self.length = length\n",
        "        self.width = width\n",
        "\n",
        "    def area(self):\n",
        "        return self.length * self.width\n",
        "\n",
        "class Circle(Shape):\n",
        "    def __init__(self, color, border_width, radius):\n",
        "        super().__init__(color, border_width)\n",
        "        self.radius = radius\n",
        "\n",
        "    def area(self):\n",
        "        return 3.14 * (self.radius ** 2)"
      ],
      "metadata": {
        "id": "dqeMygO76TZj"
      },
      "execution_count": 10,
      "outputs": []
    },
    {
      "cell_type": "markdown",
      "source": [
        "9. Create a base class called \"Device\" with attributes like \"brand\" and \"model.\" Derive\n",
        "two classes, \"Phone\" and \"Tablet,\" from \"Device.\" Add specific attributes like\n",
        "\"screen_size\" for the \"Phone\" class and \"battery_capacity\" for the \"Tablet\" class."
      ],
      "metadata": {
        "id": "Qu4Lmk6n3KON"
      }
    },
    {
      "cell_type": "code",
      "source": [
        "class Device:\n",
        "    def __init__(self, brand, model):\n",
        "        self.brand = brand\n",
        "        self.model = model\n",
        "\n",
        "class Phone(Device):\n",
        "    def __init__(self, brand, model, screen_size):\n",
        "        super().__init__(brand, model)\n",
        "        self.screen_size = screen_size\n",
        "\n",
        "    def call(self, number):\n",
        "        print(f\"Calling {number} on {self.brand} {self.model} with {self.screen_size} inch screen...\")\n",
        "\n",
        "class Tablet(Device):\n",
        "    def __init__(self, brand, model, battery_capacity):\n",
        "        super().__init__(brand, model)\n",
        "        self.battery_capacity = battery_capacity\n",
        "\n",
        "    def watch_movie(self, movie_name):\n",
        "        print(f\"Watching {movie_name} on {self.brand} {self.model} with {self.battery_capacity} mAh battery...\")\n",
        "\n",
        "# Example usage\n",
        "iphone = Phone(\"Apple\", \"iPhone 13 Pro\", 6.1)\n",
        "iphone.call(\"555-555-5555\")\n",
        "\n",
        "ipad = Tablet(\"Apple\", \"iPad Pro\", 10000)\n",
        "ipad.watch_movie(\"Inception\")"
      ],
      "metadata": {
        "colab": {
          "base_uri": "https://localhost:8080/"
        },
        "id": "F2pAaT2S4dFR",
        "outputId": "a7ee9ce2-d3b7-4537-d33e-63d80d87786f"
      },
      "execution_count": 3,
      "outputs": [
        {
          "output_type": "stream",
          "name": "stdout",
          "text": [
            "Calling 555-555-5555 on Apple iPhone 13 Pro with 6.1 inch screen...\n",
            "Watching Inception on Apple iPad Pro with 10000 mAh battery...\n"
          ]
        }
      ]
    },
    {
      "cell_type": "markdown",
      "source": [
        "10. Create a base class called \"BankAccount\" with attributes like \"account_number\" and\n",
        "\"balance.\" Derive two classes, \"SavingsAccount\" and \"CheckingAccount,\" from\n",
        "\"BankAccount.\" Add specific methods like \"calculate_interest\" for the\n",
        "\"SavingsAccount\" class and \"deduct_fees\" for the \"CheckingAccount\" class."
      ],
      "metadata": {
        "id": "002MSNXW3z2t"
      }
    },
    {
      "cell_type": "code",
      "source": [
        "class BankAccount:\n",
        "    def __init__(self, account_number, balance):\n",
        "        self.account_number = account_number\n",
        "        self.balance = balance\n",
        "\n",
        "    def deposit(self, amount):\n",
        "        self.balance += amount\n",
        "        return self.balance\n",
        "\n",
        "    def withdraw(self, amount):\n",
        "        if amount > self.balance:\n",
        "            raise ValueError(\"Insufficient funds\")\n",
        "        self.balance -= amount\n",
        "        return self.balance\n",
        "\n",
        "    def get_balance(self):\n",
        "        return self.balance\n",
        "\n",
        "\n",
        "class SavingsAccount(BankAccount):\n",
        "    def __init__(self, account_number, balance=0, interest_rate=0.05):\n",
        "        super().__init__(account_number, balance)\n",
        "        self.interest_rate = interest_rate\n",
        "\n",
        "    def calculate_interest(self):\n",
        "        self.balance += self.balance * self.interest_rate\n",
        "        return self.balance\n",
        "\n",
        "\n",
        "class CheckingAccount(BankAccount):\n",
        "    def __init__(self, account_number, balance=0, fee=5):\n",
        "        super().__init__(account_number, balance)\n",
        "        self.fee = fee\n",
        "\n",
        "    def deduct_fees(self):\n",
        "        self.balance -= self.fee\n",
        "        if self.balance < 0:\n",
        "            raise ValueError(\"Insufficient funds to cover fees\")\n",
        "        return self.balance\n",
        "\n",
        "bank= CheckingAccount(123456,12000)\n",
        "bank.deduct_fees()"
      ],
      "metadata": {
        "colab": {
          "base_uri": "https://localhost:8080/"
        },
        "id": "WsRCph6c3FEt",
        "outputId": "f88157a6-a361-4231-8063-e9bdadcdc241"
      },
      "execution_count": 9,
      "outputs": [
        {
          "output_type": "execute_result",
          "data": {
            "text/plain": [
              "11995"
            ]
          },
          "metadata": {},
          "execution_count": 9
        }
      ]
    },
    {
      "cell_type": "code",
      "source": [],
      "metadata": {
        "id": "f9wxanHA3FUP"
      },
      "execution_count": null,
      "outputs": []
    },
    {
      "cell_type": "code",
      "source": [],
      "metadata": {
        "id": "vAgK2SHt3Feo"
      },
      "execution_count": null,
      "outputs": []
    },
    {
      "cell_type": "code",
      "source": [],
      "metadata": {
        "id": "0Amwylui3Fh1"
      },
      "execution_count": null,
      "outputs": []
    },
    {
      "cell_type": "code",
      "source": [],
      "metadata": {
        "id": "k7_HRTuv3Fk9"
      },
      "execution_count": null,
      "outputs": []
    },
    {
      "cell_type": "code",
      "source": [],
      "metadata": {
        "id": "nXXRamIq3Fs9"
      },
      "execution_count": null,
      "outputs": []
    },
    {
      "cell_type": "code",
      "source": [],
      "metadata": {
        "id": "dNEwt6E93FwI"
      },
      "execution_count": null,
      "outputs": []
    }
  ]
}