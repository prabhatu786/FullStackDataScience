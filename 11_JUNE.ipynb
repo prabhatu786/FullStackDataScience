{
  "nbformat": 4,
  "nbformat_minor": 0,
  "metadata": {
    "colab": {
      "provenance": [],
      "gpuType": "T4",
      "authorship_tag": "ABX9TyNosaJ9fiDea16pFo5hwea6",
      "include_colab_link": true
    },
    "kernelspec": {
      "name": "python3",
      "display_name": "Python 3"
    },
    "language_info": {
      "name": "python"
    },
    "accelerator": "GPU"
  },
  "cells": [
    {
      "cell_type": "markdown",
      "metadata": {
        "id": "view-in-github",
        "colab_type": "text"
      },
      "source": [
        "<a href=\"https://colab.research.google.com/github/prabhatu786/FullStackDataScience/blob/main/11_JUNE.ipynb\" target=\"_parent\"><img src=\"https://colab.research.google.com/assets/colab-badge.svg\" alt=\"Open In Colab\"/></a>"
      ]
    },
    {
      "cell_type": "markdown",
      "source": [
        "# 1. What is a lambda function in Python, and how does it differ from a regular function?\n",
        "\n",
        "Answer:-\n",
        "Lambda functions are similar to user-defined functions but without a name. They're commonly referred to as anonymous functions. Lambda functions are efficient whenever you want to create a function that will only contain simple expressions – that is, expressions that are usually a single line of a statement.25-Oct-2022\n"
      ],
      "metadata": {
        "id": "sCRpASEAmXtV"
      }
    },
    {
      "cell_type": "markdown",
      "source": [
        "#2.Can a lambda function in Python have multiple arguments? If yes, how can you define and usethem?\n",
        "\n",
        "Answer:- The lambda function can take many arguments but can return only one expression."
      ],
      "metadata": {
        "id": "1uSS5TgIn_Xn"
      }
    },
    {
      "cell_type": "markdown",
      "source": [
        "#3. How are lambda functions typically used in Python? Provide an example use case.\n",
        "\n",
        "Answer:-\n",
        "Lambda functions are frequently used with higher-order functions, which take one or more functions as arguments or return one or more functions. Python exposes higher-order functions as built-in functions or in the standard library. Examples include map() , filter() , functools.\n",
        "\n"
      ],
      "metadata": {
        "id": "eG-9eIa_n_a-"
      }
    },
    {
      "cell_type": "code",
      "execution_count": null,
      "metadata": {
        "colab": {
          "base_uri": "https://localhost:8080/"
        },
        "id": "Ger_CIA7fejU",
        "outputId": "0e0cab49-0016-4d14-d41e-2ac5757cfcd6"
      },
      "outputs": [
        {
          "output_type": "stream",
          "name": "stdout",
          "text": [
            "  2           0 LOAD_FAST                0 (x)\n",
            "              2 LOAD_FAST                1 (y)\n",
            "              4 BINARY_ADD\n",
            "              6 RETURN_VALUE\n"
          ]
        },
        {
          "output_type": "execute_result",
          "data": {
            "text/plain": [
              "<function __main__.<lambda>(x, y)>"
            ]
          },
          "metadata": {},
          "execution_count": 1
        }
      ],
      "source": [
        "import dis\n",
        "add = lambda x, y: x + y\n",
        "type(add)\n",
        "\n",
        "dis.dis(add)\n",
        "add\n"
      ]
    },
    {
      "cell_type": "markdown",
      "source": [
        "#4. What are the advantages and limitations of lambda functions compared to regular functions in Python?\n",
        "\n",
        "Answer:-\n",
        "The main advantage is their concise and readable syntax, which makes them ideal for simple operations. However, lambda functions can only contain a single expression and cannot include statements, making them less suitable for complex operations."
      ],
      "metadata": {
        "id": "bTAzs9dhn_eH"
      }
    },
    {
      "cell_type": "markdown",
      "source": [],
      "metadata": {
        "id": "YxmNgmWp6H7D"
      }
    },
    {
      "cell_type": "markdown",
      "source": [
        "#5. Are lambda functions in Python able to access variables defined outside of their own scope? Explain with an example.\n",
        "Anwer:-\n",
        "Lambda functions have their own local namespace and cannot access variables other than those in their parameter list and those in the global namespace."
      ],
      "metadata": {
        "id": "ihMhAOKnsGBE"
      }
    },
    {
      "cell_type": "code",
      "source": [
        "sum=lambda num1,num2 :num1+num2\n",
        "print(\"value of total\", sum(22,23))\n"
      ],
      "metadata": {
        "id": "YO13rgF6s2Cc",
        "colab": {
          "base_uri": "https://localhost:8080/",
          "height": 70
        },
        "outputId": "6a5f097f-f111-4884-a175-85d053606981"
      },
      "execution_count": null,
      "outputs": [
        {
          "name": "stdout",
          "output_type": "stream",
          "text": [
            "value of total 45\n",
            "5\n"
          ]
        },
        {
          "output_type": "execute_result",
          "data": {
            "text/plain": [
              "'5'"
            ],
            "application/vnd.google.colaboratory.intrinsic+json": {
              "type": "string"
            }
          },
          "metadata": {},
          "execution_count": 3
        }
      ]
    },
    {
      "cell_type": "markdown",
      "source": [
        "#6. Write a lambda function to calculate the square of a given number."
      ],
      "metadata": {
        "id": "rjqzKDg0sGEp"
      }
    },
    {
      "cell_type": "code",
      "source": [
        "a=int(input())\n",
        "Square=lambda a :a**2\n",
        "print(Square(a))"
      ],
      "metadata": {
        "colab": {
          "base_uri": "https://localhost:8080/"
        },
        "id": "AE1yn_vy5Ygw",
        "outputId": "dab7fb3e-48d0-4076-9f66-8ab2ab33d97a"
      },
      "execution_count": 10,
      "outputs": [
        {
          "output_type": "stream",
          "name": "stdout",
          "text": [
            "5\n",
            "25\n"
          ]
        }
      ]
    },
    {
      "cell_type": "markdown",
      "source": [
        "# Create a lambda function to find the maximum value in a list of integers.\n"
      ],
      "metadata": {
        "id": "Dk3zRSaJ9tTF"
      }
    },
    {
      "cell_type": "code",
      "source": [
        "list = [\"19\", \"7\", \"17\", \"29\", \"5\"]\n",
        "maximum = max(list, key=lambda x:int(x))\n",
        "print(maximum)\n"
      ],
      "metadata": {
        "id": "ToTXVFv56JlX",
        "colab": {
          "base_uri": "https://localhost:8080/"
        },
        "outputId": "003f5ee4-964d-4969-a566-9aecc213e421"
      },
      "execution_count": 21,
      "outputs": [
        {
          "output_type": "stream",
          "name": "stdout",
          "text": [
            "29\n"
          ]
        }
      ]
    },
    {
      "cell_type": "markdown",
      "source": [],
      "metadata": {
        "id": "WJ7l3nwTsGH6"
      }
    }
  ]
}