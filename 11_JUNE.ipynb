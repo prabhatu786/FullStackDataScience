{
  "nbformat": 4,
  "nbformat_minor": 0,
  "metadata": {
    "colab": {
      "provenance": [],
      "gpuType": "T4",
      "authorship_tag": "ABX9TyP4wJXUDEGjWut6Hiq0wyA7",
      "include_colab_link": true
    },
    "kernelspec": {
      "name": "python3",
      "display_name": "Python 3"
    },
    "language_info": {
      "name": "python"
    },
    "accelerator": "GPU"
  },
  "cells": [
    {
      "cell_type": "markdown",
      "metadata": {
        "id": "view-in-github",
        "colab_type": "text"
      },
      "source": [
        "<a href=\"https://colab.research.google.com/github/prabhatu786/FullStackDataScience/blob/main/11_JUNE.ipynb\" target=\"_parent\"><img src=\"https://colab.research.google.com/assets/colab-badge.svg\" alt=\"Open In Colab\"/></a>"
      ]
    },
    {
      "cell_type": "markdown",
      "source": [
        "# 1. What is a lambda function in Python, and how does it differ from a regular function?\n",
        "\n",
        "Answer:-\n",
        "Lambda functions are similar to user-defined functions but without a name. They're commonly referred to as anonymous functions. Lambda functions are efficient whenever you want to create a function that will only contain simple expressions – that is, expressions that are usually a single line of a statement.25-Oct-2022\n"
      ],
      "metadata": {
        "id": "sCRpASEAmXtV"
      }
    },
    {
      "cell_type": "markdown",
      "source": [
        "#2.Can a lambda function in Python have multiple arguments? If yes, how can you define and usethem?\n",
        "\n",
        "Answer:- The lambda function can take many arguments but can return only one expression."
      ],
      "metadata": {
        "id": "1uSS5TgIn_Xn"
      }
    },
    {
      "cell_type": "markdown",
      "source": [
        "#3. How are lambda functions typically used in Python? Provide an example use case.\n",
        "\n",
        "Answer:-\n",
        "Lambda functions are frequently used with higher-order functions, which take one or more functions as arguments or return one or more functions. Python exposes higher-order functions as built-in functions or in the standard library. Examples include map() , filter() , functools.\n",
        "\n"
      ],
      "metadata": {
        "id": "eG-9eIa_n_a-"
      }
    },
    {
      "cell_type": "code",
      "execution_count": null,
      "metadata": {
        "colab": {
          "base_uri": "https://localhost:8080/"
        },
        "id": "Ger_CIA7fejU",
        "outputId": "0e0cab49-0016-4d14-d41e-2ac5757cfcd6"
      },
      "outputs": [
        {
          "output_type": "stream",
          "name": "stdout",
          "text": [
            "  2           0 LOAD_FAST                0 (x)\n",
            "              2 LOAD_FAST                1 (y)\n",
            "              4 BINARY_ADD\n",
            "              6 RETURN_VALUE\n"
          ]
        },
        {
          "output_type": "execute_result",
          "data": {
            "text/plain": [
              "<function __main__.<lambda>(x, y)>"
            ]
          },
          "metadata": {},
          "execution_count": 1
        }
      ],
      "source": [
        "import dis\n",
        "add = lambda x, y: x + y\n",
        "type(add)\n",
        "\n",
        "dis.dis(add)\n",
        "add\n"
      ]
    },
    {
      "cell_type": "markdown",
      "source": [
        "#4. What are the advantages and limitations of lambda functions compared to regular functions in Python?\n",
        "\n",
        "Answer:-\n",
        "The main advantage is their concise and readable syntax, which makes them ideal for simple operations. However, lambda functions can only contain a single expression and cannot include statements, making them less suitable for complex operations."
      ],
      "metadata": {
        "id": "bTAzs9dhn_eH"
      }
    },
    {
      "cell_type": "markdown",
      "source": [],
      "metadata": {
        "id": "YxmNgmWp6H7D"
      }
    },
    {
      "cell_type": "markdown",
      "source": [
        "#5. Are lambda functions in Python able to access variables defined outside of their own scope? Explain with an example.\n",
        "Anwer:-\n",
        "Lambda functions have their own local namespace and cannot access variables other than those in their parameter list and those in the global namespace."
      ],
      "metadata": {
        "id": "ihMhAOKnsGBE"
      }
    },
    {
      "cell_type": "code",
      "source": [
        "sum=lambda num1,num2 :num1+num2\n",
        "print(\"value of total\", sum(22,23))\n"
      ],
      "metadata": {
        "id": "YO13rgF6s2Cc",
        "colab": {
          "base_uri": "https://localhost:8080/"
        },
        "outputId": "44da6bfd-f756-4793-87f7-e7f07c30b097"
      },
      "execution_count": null,
      "outputs": [
        {
          "output_type": "stream",
          "name": "stdout",
          "text": [
            "value of total 45\n"
          ]
        }
      ]
    },
    {
      "cell_type": "markdown",
      "source": [
        "#6. Write a lambda function to calculate the square of a given number."
      ],
      "metadata": {
        "id": "rjqzKDg0sGEp"
      }
    },
    {
      "cell_type": "code",
      "source": [
        "a=int(input())\n",
        "Square=lambda a :a**2\n",
        "print(Square(a))"
      ],
      "metadata": {
        "colab": {
          "base_uri": "https://localhost:8080/"
        },
        "id": "AE1yn_vy5Ygw",
        "outputId": "dab7fb3e-48d0-4076-9f66-8ab2ab33d97a"
      },
      "execution_count": null,
      "outputs": [
        {
          "output_type": "stream",
          "name": "stdout",
          "text": [
            "5\n",
            "25\n"
          ]
        }
      ]
    },
    {
      "cell_type": "markdown",
      "source": [
        "# Create a lambda function to find the maximum value in a list of integers.\n"
      ],
      "metadata": {
        "id": "Dk3zRSaJ9tTF"
      }
    },
    {
      "cell_type": "code",
      "source": [
        "list = [\"19\", \"7\", \"17\", \"29\", \"5\"]\n",
        "maximum = max(list, key=lambda x:int(x))\n",
        "print(maximum)\n"
      ],
      "metadata": {
        "id": "ToTXVFv56JlX",
        "colab": {
          "base_uri": "https://localhost:8080/"
        },
        "outputId": "003f5ee4-964d-4969-a566-9aecc213e421"
      },
      "execution_count": null,
      "outputs": [
        {
          "output_type": "stream",
          "name": "stdout",
          "text": [
            "29\n"
          ]
        }
      ]
    },
    {
      "cell_type": "markdown",
      "source": [
        "#8. Implement a lambda function to filter out all the even numbers from a list of integers.\n"
      ],
      "metadata": {
        "id": "WJ7l3nwTsGH6"
      }
    },
    {
      "cell_type": "code",
      "source": [
        "nums = [1, 2, 3, 4, 5, 6, 7, 8, 9, 10]\n",
        "print(\"Original list of integers:\")\n",
        "print(nums)\n",
        "print(\"\\nEven numbers from the said list:\")\n",
        "even_nums = filter(lambda x: x%2 == 0, nums)\n",
        "print(even_nums)\n"
      ],
      "metadata": {
        "colab": {
          "base_uri": "https://localhost:8080/",
          "height": 279
        },
        "id": "JfCFY_83EGAu",
        "outputId": "51128cc3-aa9c-4c72-9b5b-d6ab6d359fb6"
      },
      "execution_count": null,
      "outputs": [
        {
          "output_type": "stream",
          "name": "stdout",
          "text": [
            "Original list of integers:\n",
            "[1, 2, 3, 4, 5, 6, 7, 8, 9, 10]\n",
            "\n",
            "Even numbers from the said list:\n"
          ]
        },
        {
          "output_type": "error",
          "ename": "TypeError",
          "evalue": "ignored",
          "traceback": [
            "\u001b[0;31m---------------------------------------------------------------------------\u001b[0m",
            "\u001b[0;31mTypeError\u001b[0m                                 Traceback (most recent call last)",
            "\u001b[0;32m<ipython-input-38-fc99473ca88f>\u001b[0m in \u001b[0;36m<cell line: 6>\u001b[0;34m()\u001b[0m\n\u001b[1;32m      4\u001b[0m \u001b[0mprint\u001b[0m\u001b[0;34m(\u001b[0m\u001b[0;34m\"\\nEven numbers from the said list:\"\u001b[0m\u001b[0;34m)\u001b[0m\u001b[0;34m\u001b[0m\u001b[0;34m\u001b[0m\u001b[0m\n\u001b[1;32m      5\u001b[0m \u001b[0meven_nums\u001b[0m \u001b[0;34m=\u001b[0m \u001b[0mfilter\u001b[0m\u001b[0;34m(\u001b[0m\u001b[0;32mlambda\u001b[0m \u001b[0mx\u001b[0m\u001b[0;34m:\u001b[0m \u001b[0mx\u001b[0m\u001b[0;34m%\u001b[0m\u001b[0;36m2\u001b[0m \u001b[0;34m==\u001b[0m \u001b[0;36m0\u001b[0m\u001b[0;34m,\u001b[0m \u001b[0mnums\u001b[0m\u001b[0;34m)\u001b[0m\u001b[0;34m\u001b[0m\u001b[0;34m\u001b[0m\u001b[0m\n\u001b[0;32m----> 6\u001b[0;31m \u001b[0mprint\u001b[0m\u001b[0;34m(\u001b[0m\u001b[0meven_nums\u001b[0m\u001b[0;34m(\u001b[0m\u001b[0mnums\u001b[0m\u001b[0;34m)\u001b[0m\u001b[0;34m)\u001b[0m\u001b[0;34m\u001b[0m\u001b[0;34m\u001b[0m\u001b[0m\n\u001b[0m",
            "\u001b[0;31mTypeError\u001b[0m: 'filter' object is not callable"
          ]
        }
      ]
    },
    {
      "cell_type": "markdown",
      "source": [
        "#9. Write a lambda function to sort a list of strings in ascending order based on the length of each string."
      ],
      "metadata": {
        "id": "hwA69vYkH2hm"
      }
    },
    {
      "cell_type": "code",
      "source": [
        "# Create list with numbers\n",
        "numbers = [2, 4, 1, 6, 3]\n",
        "print(\"Original:\",numbers)\n",
        "\n",
        "# Using sorted() with lambda\n",
        "sorted_numbers_Acending  = sorted(numbers, key=lambda x: x)\n",
        "sorted_numbers_decending = sorted(numbers, key=lambda x: x,reverse=True)\n",
        "\n",
        "print(\"Sorted Acending:\",sorted_numbers_Acending)\n",
        "print(\"Sorted Decending:\",sorted_numbers_decending)"
      ],
      "metadata": {
        "colab": {
          "base_uri": "https://localhost:8080/"
        },
        "id": "lmLYWR2eIF6A",
        "outputId": "97fbbbb5-5063-452f-86f0-fae1af20ceb1"
      },
      "execution_count": null,
      "outputs": [
        {
          "output_type": "stream",
          "name": "stdout",
          "text": [
            "Original: [2, 4, 1, 6, 3]\n",
            "Sorted Acending: [1, 2, 3, 4, 6]\n",
            "Sorted Decending: [6, 4, 3, 2, 1]\n"
          ]
        }
      ]
    },
    {
      "cell_type": "markdown",
      "source": [
        "# 10) Create a lambda function that takes two lists as input and returns a new list containing the common elements between the two lists.\n",
        "\n",
        "\n"
      ],
      "metadata": {
        "id": "EoiCaSqBL7ip"
      }
    },
    {
      "cell_type": "code",
      "source": [
        "\n",
        "from functools import reduce\n",
        "\n",
        "# initializing list of lists\n",
        "test_list = [[2, 3, 5, 8], [2, 6, 7, 3], [10, 9, 2, 3]]\n",
        "\n",
        "# printing original list\n",
        "print (\"The original list is : \" + str(test_list))\n",
        "res = list(reduce(lambda i, j: i & j, (set(x) for x in test_list)))\n",
        "\n",
        "# printing result\n",
        "print (\"The common elements from N lists : \" + str(res))\n"
      ],
      "metadata": {
        "colab": {
          "base_uri": "https://localhost:8080/"
        },
        "id": "tlj5nL0XEksr",
        "outputId": "d84f4f59-ea9b-4ead-aead-e9670b705e41"
      },
      "execution_count": 7,
      "outputs": [
        {
          "output_type": "stream",
          "name": "stdout",
          "text": [
            "The original list is : [[2, 3, 5, 8], [2, 6, 7, 3], [10, 9, 2, 3]]\n",
            "The common elements from N lists : [2, 3]\n"
          ]
        }
      ]
    },
    {
      "cell_type": "markdown",
      "source": [
        "# 11. Write a recursive function to calculate the factorial of a given positive integer."
      ],
      "metadata": {
        "id": "t-2NQTviG0n2"
      }
    },
    {
      "cell_type": "code",
      "source": [
        "# Recursive function to find factorial of a number\n",
        "def factorial(n):\n",
        "\n",
        "    # base case: if `n` is 0 or 1\n",
        "    if n < 1:\n",
        "        return 1\n",
        "\n",
        "    # use the recurrence relation\n",
        "    return n * factorial(n - 1)\n",
        "\n",
        "\n",
        "if __name__ == '__main__':\n",
        "\n",
        "    n = 5\n",
        "    print(f'The Factorial of {n} is', factorial(n))\n",
        ""
      ],
      "metadata": {
        "colab": {
          "base_uri": "https://localhost:8080/"
        },
        "id": "339f30G6HVUY",
        "outputId": "b809947a-1df8-4ed0-e2fd-ff3aa417822b"
      },
      "execution_count": 8,
      "outputs": [
        {
          "output_type": "stream",
          "name": "stdout",
          "text": [
            "The Factorial of 5 is 120\n"
          ]
        }
      ]
    },
    {
      "cell_type": "markdown",
      "source": [
        "# 12. Implement a recursive function to compute the nth Fibonacci number."
      ],
      "metadata": {
        "id": "gdgrsV8GHXjd"
      }
    },
    {
      "cell_type": "code",
      "source": [
        "def Fibonacci(n):\n",
        "\tif n<= 0:\n",
        "\t\tprint(\"Incorrect input\")\n",
        "\t# First Fibonacci number is 0\n",
        "\telif n == 1:\n",
        "\t\treturn 0\n",
        "\t# Second Fibonacci number is 1\n",
        "\telif n == 2:\n",
        "\t\treturn 1\n",
        "\telse:\n",
        "\t\treturn Fibonacci(n-1)+Fibonacci(n-2)\n",
        "\n",
        "# Driver Program\n",
        "\n",
        "print(Fibonacci(10))\n"
      ],
      "metadata": {
        "colab": {
          "base_uri": "https://localhost:8080/"
        },
        "id": "3PSzsQVGHflU",
        "outputId": "c7ea21eb-80b4-4b63-8b76-e00b3caf81f5"
      },
      "execution_count": 9,
      "outputs": [
        {
          "output_type": "stream",
          "name": "stdout",
          "text": [
            "34\n"
          ]
        }
      ]
    },
    {
      "cell_type": "markdown",
      "source": [
        "# 13. Create a recursive function to find the sum of all the elements in a given list.\n"
      ],
      "metadata": {
        "id": "UsyQxUUQH8Mz"
      }
    },
    {
      "cell_type": "code",
      "source": [
        "def findSum(list1):\n",
        "     if len(list1)== 1:\n",
        "        return list1[0]\n",
        "     else:\n",
        "        return list1[0]+findSum(list1[1:])\n",
        "\n",
        "# driver code\n",
        "list1 =[]\n",
        "# input values to list\n",
        "list1 = [1, 2, 3, 4, 5]\n",
        "print(findSum(list1))\n"
      ],
      "metadata": {
        "colab": {
          "base_uri": "https://localhost:8080/"
        },
        "id": "mnpn-HL7H66x",
        "outputId": "dda54f98-92bf-49ea-e286-e22a4daa490d"
      },
      "execution_count": 10,
      "outputs": [
        {
          "output_type": "stream",
          "name": "stdout",
          "text": [
            "15\n"
          ]
        }
      ]
    },
    {
      "cell_type": "markdown",
      "source": [
        "# 14. Write a recursive function to determine whether a given string is a palindrome."
      ],
      "metadata": {
        "id": "frncq_t3IkQM"
      }
    },
    {
      "cell_type": "code",
      "source": [
        "def is_palindrome(s):\n",
        "    if len(s) < 1:\n",
        "        return True\n",
        "    else:\n",
        "        if s[0] == s[-1]:\n",
        "            return is_palindrome(s[1:-1])\n",
        "        else:\n",
        "            return False\n",
        "a=str(input(\"Enter string:\"))\n",
        "if(is_palindrome(a)==True):\n",
        "    print(\"Given String is a palindrome!\")\n",
        "else:\n",
        "    print(\"Given String isn't a palindrome!\")"
      ],
      "metadata": {
        "colab": {
          "base_uri": "https://localhost:8080/"
        },
        "id": "G09RmkHNIjUz",
        "outputId": "0bff7f9b-d012-429b-8579-8b5213e1285c"
      },
      "execution_count": 12,
      "outputs": [
        {
          "output_type": "stream",
          "name": "stdout",
          "text": [
            "Enter string:oyo\n",
            "Given String is a palindrome!\n"
          ]
        }
      ]
    },
    {
      "cell_type": "markdown",
      "source": [
        "# 15. Implement a recursive function to find the greatest common divisor (GCD) of two positive integers."
      ],
      "metadata": {
        "id": "mFOeDN89J2zi"
      }
    },
    {
      "cell_type": "code",
      "source": [
        "num1 = 36\n",
        "num2 = 60\n",
        "gcd = 1\n",
        "\n",
        "for i in range(1, min(num1, num2)):\n",
        "    if num1 % i == 0 and num2 % i == 0:\n",
        "        gcd = i\n",
        "print(\"GCD of\", num1, \"and\", num2, \"is\", gcd)\n"
      ],
      "metadata": {
        "colab": {
          "base_uri": "https://localhost:8080/"
        },
        "id": "9iJ0FdVyJ1y9",
        "outputId": "cf94542b-0259-4424-9ee8-5ecc9916407e"
      },
      "execution_count": 13,
      "outputs": [
        {
          "output_type": "stream",
          "name": "stdout",
          "text": [
            "GCD of 36 and 60 is 12\n"
          ]
        }
      ]
    }
  ]
}