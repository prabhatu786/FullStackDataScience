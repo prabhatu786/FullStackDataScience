{
  "nbformat": 4,
  "nbformat_minor": 0,
  "metadata": {
    "colab": {
      "provenance": [],
      "gpuType": "T4",
      "authorship_tag": "ABX9TyN/aL1wMmQBPcXA85GXlwJx",
      "include_colab_link": true
    },
    "kernelspec": {
      "name": "python3",
      "display_name": "Python 3"
    },
    "language_info": {
      "name": "python"
    },
    "accelerator": "GPU"
  },
  "cells": [
    {
      "cell_type": "markdown",
      "metadata": {
        "id": "view-in-github",
        "colab_type": "text"
      },
      "source": [
        "<a href=\"https://colab.research.google.com/github/prabhatu786/FullStackDataScience/blob/main/18th_June_'23_Assignment.ipynb\" target=\"_parent\"><img src=\"https://colab.research.google.com/assets/colab-badge.svg\" alt=\"Open In Colab\"/></a>"
      ]
    },
    {
      "cell_type": "markdown",
      "source": [
        "**1.What is the role of the 'else' block in a try-except statement? Provide an example scenario where it would be useful.**\n",
        "\n",
        "Answer:\n",
        "\n",
        "The else block in a try-except statement is executed if the code in the try block does not raise an exception. It provides a way to run some code that should be executed if no exceptions are raised.\n",
        "\n",
        "Here's an example scenario where it would be useful:\n",
        "\n",
        "Suppose you have a function that reads data from a file and performs some processing on it. You want to log a message indicating that the data has been processed successfully, but only if no exceptions were raised during the file reading or processing."
      ],
      "metadata": {
        "id": "MH9QZuX7iXK-"
      }
    },
    {
      "cell_type": "code",
      "execution_count": 1,
      "metadata": {
        "colab": {
          "base_uri": "https://localhost:8080/"
        },
        "id": "AuKUaFl4iNTh",
        "outputId": "8268b6c2-0e37-4849-e0d4-70e4ff976424"
      },
      "outputs": [
        {
          "output_type": "stream",
          "name": "stdout",
          "text": [
            "An error occurred: [Errno 2] No such file or directory: 'data.txt'\n"
          ]
        }
      ],
      "source": [
        "try:\n",
        "    with open('data.txt', 'r') as f:\n",
        "        data = f.read()\n",
        "    processed_data = process(data)\n",
        "except Exception as e:\n",
        "    print(f'An error occurred: {e}')\n",
        "else:\n",
        "    print('Data processed successfully')"
      ]
    },
    {
      "cell_type": "markdown",
      "source": [
        "**2.Can a try-except block be nested inside another try-except block? Explain with an example.**\n",
        "\n",
        "Yes, a try-except block can be nested inside another try-except block. This can be useful when you have multiple levels of error handling that need to be performed."
      ],
      "metadata": {
        "id": "ccCKxwy5jCFO"
      }
    },
    {
      "cell_type": "code",
      "source": [
        "try:\n",
        "    try:\n",
        "        # some code that may raise an exception\n",
        "        raise ValueError('An error occurred')\n",
        "    except ValueError as e:\n",
        "        # handle the ValueError exception\n",
        "        print(f'Caught ValueError: {e}')\n",
        "        raise\n",
        "except Exception as e:\n",
        "    # handle any other exceptions\n",
        "    print(f'Caught exception: {e}')\n"
      ],
      "metadata": {
        "colab": {
          "base_uri": "https://localhost:8080/"
        },
        "id": "EjCULNStjC5m",
        "outputId": "933e76d7-d6e6-477c-8f14-78a08c59a294"
      },
      "execution_count": 2,
      "outputs": [
        {
          "output_type": "stream",
          "name": "stdout",
          "text": [
            "Caught ValueError: An error occurred\n",
            "Caught exception: An error occurred\n"
          ]
        }
      ]
    },
    {
      "cell_type": "markdown",
      "source": [
        "**3.How can you create a custom exception class in Python? Provide an example that demonstrates its usage.**"
      ],
      "metadata": {
        "id": "73umDFQ3jI_W"
      }
    },
    {
      "cell_type": "code",
      "source": [
        "class CustomException(Exception):\n",
        "    def __init__(self, message):\n",
        "        super().__init__(message)\n",
        "\n",
        "try:\n",
        "    raise CustomException('An error occurred')\n",
        "except CustomException as e:\n",
        "    print(e)"
      ],
      "metadata": {
        "colab": {
          "base_uri": "https://localhost:8080/"
        },
        "id": "x1Jk4phOjQf2",
        "outputId": "8314e80d-7976-470a-be2c-fe621bc05a7d"
      },
      "execution_count": 3,
      "outputs": [
        {
          "output_type": "stream",
          "name": "stdout",
          "text": [
            "An error occurred\n"
          ]
        }
      ]
    },
    {
      "cell_type": "markdown",
      "source": [
        "**4.What are some common exceptions that are built-in to Python?**\n",
        "\n",
        "Answer:\n",
        "\n",
        "Exception: the base class for all built-in exceptions\n",
        "\n",
        "AttributeError: raised when an attribute reference or assignment fails\n",
        "\n",
        "NameError: raised when a variable is not defined\n",
        "\n",
        "TypeError: raised when an operation or function is applied to an object of inappropriate type\n",
        "\n",
        "ValueError: raised when an operation or function receives an argument of correct type but inappropriate value\n",
        "\n",
        "ZeroDivisionError: raised when the second argument of a division or modulo operation is zero\n",
        "\n"
      ],
      "metadata": {
        "id": "Q29S37f4jVWW"
      }
    },
    {
      "cell_type": "markdown",
      "source": [
        "5**.What is logging in Python, and why is it important in software development?**\n",
        "\n",
        "Answer:\n",
        "\n",
        "Logging in Python is the process of recording events that occur in a software application. Logging is important in software development because it provides a way to diagnose and troubleshoot issues that may arise during the execution of the application. Logging can also be used to monitor the performance of the application and to track user behavior."
      ],
      "metadata": {
        "id": "R0rC0pQXji4n"
      }
    },
    {
      "cell_type": "markdown",
      "source": [
        "**6.Explain the purpose of log levels in Python logging and provide examples of when each log level would be appropriate.**\n",
        "\n",
        "Answer:\n",
        "\n",
        "Log levels in Python logging are used to indicate the severity of a log message. The five log levels in Python are:\n",
        "\n",
        "DEBUG: used for detailed information about the application's internal state\n",
        "INFO: used for informational messages that indicate the progress of the application\n",
        "WARNING: used for warning messages that indicate a potential issue that may need to be addressed\n",
        "ERROR: used for error messages that indicate a failure in the application's operation\n",
        "CRITICAL: used for critical messages that indicate a failure that requires immediate attention\n"
      ],
      "metadata": {
        "id": "DNPibkWujrZU"
      }
    },
    {
      "cell_type": "markdown",
      "source": [
        "**7.What are log formatters in Python logging, and how can you customise the log message format using formatters?**\n",
        "\n",
        "Answer:\n",
        "\n",
        "Log formatters in Python logging are used to customise the format of log messages. They allow you to specify the layout of the log message, including the timestamp, log level, message, and other attributes.\n",
        "\n",
        "Here's an example of how to customise the log message format using a formatter:\n",
        "\n"
      ],
      "metadata": {
        "id": "WXKAqLrEj1bs"
      }
    },
    {
      "cell_type": "code",
      "source": [
        "import logging\n",
        "\n",
        "# create a custom formatter\n",
        "formatter = logging.Formatter('%(asctime)s - %(levelname)s - %(message)s')\n",
        "\n",
        "# create a file handler and set the formatter\n",
        "file_handler = logging.FileHandler('app.log')\n",
        "file_handler.setFormatter(formatter)\n",
        "\n",
        "# create a logger and add the file handler\n",
        "logger = logging.getLogger()\n",
        "logger.addHandler(file_handler)\n",
        "\n",
        "# log a message\n",
        "logger.info('Hello, World!')"
      ],
      "metadata": {
        "id": "PXz3OlONky-H"
      },
      "execution_count": 5,
      "outputs": []
    },
    {
      "cell_type": "markdown",
      "source": [
        "**8.How can you set up logging to capture log messages from multiple modules or classes in a Python application?**\n",
        "\n",
        "Answer:\n",
        "\n",
        "To set up logging to capture log messages from multiple modules or classes in a Python application, you can create a logger at the top level of the application and pass it down to the modules and classes that need to log messages.\n",
        "\n",
        "Here's an example of how to set up logging for multiple modules:"
      ],
      "metadata": {
        "id": "b6CFDS5Ek_D_"
      }
    },
    {
      "cell_type": "code",
      "source": [
        "# set the log level\n",
        "logger.setLevel(logging.INFO)\n",
        "\n",
        "# create a file handler and set the formatter\n",
        "file_handler = logging.FileHandler('app.log')\n",
        "formatter = logging.Formatter('%(asctime)s - %(levelname)s - %(message)s')\n",
        "file_handler.setFormatter(formatter)\n",
        "\n",
        "# add the file handler to the logger\n",
        "logger.addHandler(file_handler)\n",
        "\n",
        "# import the modules\n",
        "import module1\n",
        "import module2\n",
        "\n",
        "# use the logger in the modules\n",
        "module1.do_something()\n",
        "module2.do_something()"
      ],
      "metadata": {
        "id": "u3uTIaTFmlpc"
      },
      "execution_count": null,
      "outputs": []
    },
    {
      "cell_type": "code",
      "source": [
        "# module1.py\n",
        "import logging\n",
        "# module2.py\n",
        "import logging\n",
        "\n",
        "# get the logger from the main module\n",
        "logger = logging.getLogger()\n",
        "\n",
        "# log a message\n",
        "logger.info('Doing something in module1')\n",
        "\n",
        "\n",
        "# get the logger from the main module\n",
        "logger = logging.getLogger()\n",
        "\n",
        "# log a message\n",
        "logger.info('Doing something in module2')"
      ],
      "metadata": {
        "colab": {
          "base_uri": "https://localhost:8080/"
        },
        "id": "GcJ0OMQBldR9",
        "outputId": "73a20a00-a1c9-4cff-87d1-6220767a7a28"
      },
      "execution_count": 13,
      "outputs": [
        {
          "output_type": "stream",
          "name": "stderr",
          "text": [
            "INFO:root:Doing something in module1\n",
            "INFO:root:Doing something in module2\n"
          ]
        }
      ]
    },
    {
      "cell_type": "markdown",
      "source": [
        "**9.What is the difference between the logging and print statements in Python? When should you use logging over print statements in a real-world application?**\n",
        "\n",
        "Answer:\n",
        "\n",
        "The main difference between the logging and print statements in Python is that logging provides more control over the output of messages. Logging allows you to specify the log level, format, and destination of messages, whereas print statements simply output messages to the console.\n",
        "\n",
        "In a real-world application, you should use logging over print statements for the following reasons:\n",
        "\n",
        "Log levels: Logging allows you to specify the log level of messages, which makes it easier to filter out unimportant messages and focus on critical issues.\n",
        "\n",
        "Formatting: Logging allows you to customise the format of messages, which makes it easier to understand the context and severity of messages.\n",
        "Destination: Logging allows you to specify the destination of messages, which makes it easier to separate debugging messages from production messages.\n",
        "\n",
        "Persistence: Logging allows you to persist messages to a file or database, which makes it easier to review and analyse messages after the application has finished executing."
      ],
      "metadata": {
        "id": "1G3RZVZVlqEF"
      }
    },
    {
      "cell_type": "markdown",
      "source": [
        "**10.Write a Python program that logs a message to a file named \"app.log\" with the following requirements:**\n",
        "Answer:\n",
        "\n",
        "Here's an example of a Python program that logs a message to a file named \"app.log\" with the specified requirements:"
      ],
      "metadata": {
        "id": "QoP1sEUil2IM"
      }
    },
    {
      "cell_type": "code",
      "source": [
        "import logging"
      ],
      "metadata": {
        "id": "VuD3dv-QmD9d"
      },
      "execution_count": 12,
      "outputs": []
    },
    {
      "cell_type": "markdown",
      "source": [
        "**11.Create a Python program that logs an error message to the console and a file named \"errors.log\" if an exception occurs during the program's execution. The error message should include the exception type and a timestamp.**\n",
        "\n",
        "\n",
        "Answer:"
      ],
      "metadata": {
        "id": "7UfwIe6dnf_F"
      }
    },
    {
      "cell_type": "code",
      "source": [
        "import logging\n",
        "import datetime\n",
        "\n",
        "# create a custom logger\n",
        "logger = logging.getLogger('my_logger')\n",
        "logger.setLevel(logging.ERROR)\n",
        "\n",
        "# create a file handler\n",
        "file_handler = logging.FileHandler('errors.log')\n",
        "file_handler.setLevel(logging.ERROR)\n",
        "\n",
        "# create a formatter\n",
        "formatter = logging.Formatter('%(asctime)s - %(levelname)s - %(message)s - %(name)s - %(lineno)d - %(exc_text)s')\n",
        "file_handler.setFormatter(formatter)\n",
        "\n",
        "# add the file handler to the logger\n",
        "logger.addHandler(file_handler)\n",
        "\n",
        "# create a console handler\n",
        "console_handler = logging.StreamHandler()\n",
        "console_handler.setLevel(logging.ERROR)\n",
        "console_handler.setFormatter(formatter)\n",
        "logger.addHandler(console_handler)\n",
        "\n",
        "try:\n",
        "    # code that may raise an exception\n",
        "    raise ValueError('Invalid value')\n",
        "except Exception as e:\n",
        "    # log the error message\n",
        "    logger.error(str(e))"
      ],
      "metadata": {
        "colab": {
          "base_uri": "https://localhost:8080/"
        },
        "id": "BVwoLfhInnA9",
        "outputId": "b04e27d7-bfc9-478d-9bbf-9a8c559b8d6c"
      },
      "execution_count": 16,
      "outputs": [
        {
          "output_type": "stream",
          "name": "stderr",
          "text": [
            "2024-02-29 16:07:01,663 - ERROR - Invalid value - my_logger - 30 - None\n",
            "ERROR:my_logger:Invalid value\n"
          ]
        }
      ]
    }
  ]
}