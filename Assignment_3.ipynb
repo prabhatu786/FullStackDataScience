{
  "nbformat": 4,
  "nbformat_minor": 0,
  "metadata": {
    "colab": {
      "provenance": [],
      "authorship_tag": "ABX9TyOwahimf3tOF//xiALmMly/",
      "include_colab_link": true
    },
    "kernelspec": {
      "name": "python3",
      "display_name": "Python 3"
    },
    "language_info": {
      "name": "python"
    }
  },
  "cells": [
    {
      "cell_type": "markdown",
      "metadata": {
        "id": "view-in-github",
        "colab_type": "text"
      },
      "source": [
        "<a href=\"https://colab.research.google.com/github/prabhatu786/FullStackDataScience/blob/main/Assignment_3.ipynb\" target=\"_parent\"><img src=\"https://colab.research.google.com/assets/colab-badge.svg\" alt=\"Open In Colab\"/></a>"
      ]
    },
    {
      "cell_type": "markdown",
      "source": [
        "1-\n",
        " Why are functions advantageous to have in your programs?\n",
        "\n",
        "Answer: Functions to reduce the need for duplicate code. This makes programs shorter, easier to read, and easier to update.\n",
        "\n"
      ],
      "metadata": {
        "id": "2W88N50qsckC"
      }
    },
    {
      "cell_type": "code",
      "execution_count": null,
      "metadata": {
        "id": "fAqk-bnPkQ0C"
      },
      "outputs": [],
      "source": []
    },
    {
      "cell_type": "markdown",
      "source": [
        "2-\n",
        " When does the code in a function run: when it&#39;s specified or when it&#39;s called?\n",
        "\n",
        "Answer: The code in a function executes when the function is called, not when the function is defined.\n",
        "\n"
      ],
      "metadata": {
        "id": "zxWmhF0UvKH5"
      }
    },
    {
      "cell_type": "markdown",
      "source": [
        "\n",
        "\n",
        " 3-\n",
        "What statement creates a function?\n",
        "\n",
        "Answer -\n",
        "The def statement defines, i.e. creates a function."
      ],
      "metadata": {
        "id": "0QGkBxcYvKKx"
      }
    },
    {
      "cell_type": "markdown",
      "source": [
        "\n",
        "4 -\n",
        "What is the difference between a function and a function call?\n",
        "\n",
        "Answer -\n",
        "A function consists of the def statement and the code in its def clause. A function call is what moves the program execution into the function, and the function call evaluates to the function's return value.\n",
        "\n"
      ],
      "metadata": {
        "id": "_ceRLpnpvKO3"
      }
    },
    {
      "cell_type": "markdown",
      "source": [
        "5 -\n",
        "How many global scopes are there in a Python program? How many local scopes?\n",
        "\n",
        "Answer -\n",
        "There is one global scope, and a local scope is created whenever a function is called."
      ],
      "metadata": {
        "id": "FQbGVmS8vKRf"
      }
    },
    {
      "cell_type": "markdown",
      "source": [
        "6 -\n",
        "What happens to variables in a local scope when the function call returns?\n",
        "\n",
        "Answer -\n",
        "When a function returns, the local scope is destroyed, and all the variables in it are forgotten.\n"
      ],
      "metadata": {
        "id": "t1Wv1U9DvKUD"
      }
    },
    {
      "cell_type": "markdown",
      "source": [
        "7 -\n",
        "What is the concept of a return value? Is it possible to have a return value in an expression?\n",
        "\n",
        "Answer -\n",
        "A return value is the value that a function call evaluates to. Like any value, a return value can be used as part of an expression.\n",
        "\n"
      ],
      "metadata": {
        "id": "6okF2N9PwoDB"
      }
    },
    {
      "cell_type": "markdown",
      "source": [
        "8 -\n",
        "If a function does not have a return statement, what is the return value of a call to that function?\n",
        "\n",
        "Answer -\n",
        "If there is no return statement for a function, its return value is None.\n",
        "\n"
      ],
      "metadata": {
        "id": "LlTHYvRMwoGo"
      }
    },
    {
      "cell_type": "markdown",
      "source": [
        "9 -\n",
        "How do you make a function variable refer to the global variable?\n",
        "\n",
        "Answer -\n",
        "A global statement will force a variable in a function to refer to the global variable.\n",
        "\n"
      ],
      "metadata": {
        "id": "dQDP1A_6woI8"
      }
    },
    {
      "cell_type": "markdown",
      "source": [
        "10 -\n",
        "What is the data type of None?\n",
        "\n",
        "Answer -\n",
        "The data type of None is NoneType.\n",
        "\n"
      ],
      "metadata": {
        "id": "vWCoQoEvwoM6"
      }
    },
    {
      "cell_type": "markdown",
      "source": [
        "11 -\n",
        "What does the sentence import areallyourpetsnamederic do?\n",
        "\n",
        "Answer -\n",
        "That import statement imports a module named areallyourpetsnamederic.\n",
        "\n"
      ],
      "metadata": {
        "id": "K47V6DF8vKV8"
      }
    },
    {
      "cell_type": "markdown",
      "source": [
        "12 -\n",
        "If you had a bacon() feature in a spam module, what would you call it after importing spam?\n",
        "\n",
        "Answer -\n",
        "This function can be called with spam.bacon().\n",
        "\n"
      ],
      "metadata": {
        "id": "Cyy-G1MRxWtj"
      }
    },
    {
      "cell_type": "markdown",
      "source": [
        "13 -\n",
        "What can you do to save a programme from crashing if it encounters an error?\n",
        "\n",
        "Answer -\n",
        "Place the line of code that might cause an error in a try clause.\n",
        "\n"
      ],
      "metadata": {
        "id": "HsxX6yJOxWwd"
      }
    },
    {
      "cell_type": "markdown",
      "source": [
        "14 -\n",
        "What is the purpose of the try clause? What is the purpose of the except clause?\n",
        "\n",
        "Answer -\n",
        "The code that could potentially cause an error goes in the try clause.\n",
        "-The code that executes if an error happens goes in the except clause.\n",
        "\n"
      ],
      "metadata": {
        "id": "Bh5HZ3xdxWzB"
      }
    },
    {
      "cell_type": "markdown",
      "source": [],
      "metadata": {
        "id": "v1JCAdclvKZw"
      }
    }
  ]
}