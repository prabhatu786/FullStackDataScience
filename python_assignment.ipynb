{
  "nbformat": 4,
  "nbformat_minor": 0,
  "metadata": {
    "colab": {
      "provenance": [],
      "authorship_tag": "ABX9TyM5zvnKl49iJunuM/IxmOY8",
      "include_colab_link": true
    },
    "kernelspec": {
      "name": "python3",
      "display_name": "Python 3"
    },
    "language_info": {
      "name": "python"
    }
  },
  "cells": [
    {
      "cell_type": "markdown",
      "metadata": {
        "id": "view-in-github",
        "colab_type": "text"
      },
      "source": [
        "<a href=\"https://colab.research.google.com/github/prabhatu786/FullStackDataScience/blob/main/python_assignment.ipynb\" target=\"_parent\"><img src=\"https://colab.research.google.com/assets/colab-badge.svg\" alt=\"Open In Colab\"/></a>"
      ]
    },
    {
      "cell_type": "code",
      "execution_count": null,
      "metadata": {
        "colab": {
          "base_uri": "https://localhost:8080/"
        },
        "id": "EoQ4rBn6lxzm",
        "outputId": "43e77a30-7be9-436f-df50-7b88112b6f90"
      },
      "outputs": [
        {
          "output_type": "execute_result",
          "data": {
            "text/plain": [
              "True"
            ]
          },
          "metadata": {},
          "execution_count": 6
        }
      ],
      "source": [
        "def search_matrix(matrix, target):\n",
        "    rows, cols = len(matrix), len(matrix[0])\n",
        "    row, col = 0, cols - 1  # Start from the top-right corner\n",
        "\n",
        "    while row < rows and col >= 0:\n",
        "        current = matrix[row][col]\n",
        "\n",
        "        if current == target:\n",
        "            return True\n",
        "\n",
        "        # Move left if the target is smaller, move down if the target is larger\n",
        "        col -= 1 if target < current else 0\n",
        "        row += 1 if target > current else 0\n",
        "\n",
        "    return False\n",
        "matrix = [[1, 3, 5, 7], [10, 11, 16, 20], [23, 30, 34, 60]]\n",
        "target = 3\n",
        "search_matrix(matrix,target)\n"
      ]
    },
    {
      "cell_type": "code",
      "source": [
        "def highest_frequency_word_length(s):\n",
        "    # Split the input string into words\n",
        "    words = s.split()\n",
        "\n",
        "    # Count the frequency of each word using a dictionary\n",
        "    word_count = {}\n",
        "    for word in words:\n",
        "        word_count[word] = word_count.get(word, 0) + 1\n",
        "\n",
        "    # Find the word with the highest frequency\n",
        "    max_word = max(word_count, key=word_count.get)\n",
        "\n",
        "    # Return the length of the highest-frequency word\n",
        "    return len(max_word)\n",
        "\n",
        "# Example input\n",
        "input_string = \"write write write all the number from from from 1 to 100\"\n",
        "\n",
        "# Example output\n",
        "result = highest_frequency_word_length(input_string)\n",
        "print(result)"
      ],
      "metadata": {
        "colab": {
          "base_uri": "https://localhost:8080/"
        },
        "id": "K9yu0BEdmyjF",
        "outputId": "788d92f6-34df-40e3-e675-aecd20eb3b37"
      },
      "execution_count": null,
      "outputs": [
        {
          "output_type": "stream",
          "name": "stdout",
          "text": [
            "5\n"
          ]
        }
      ]
    }
  ]
}